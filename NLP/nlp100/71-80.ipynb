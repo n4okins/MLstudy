{
 "cells": [
  {
   "cell_type": "code",
   "execution_count": 34,
   "metadata": {},
   "outputs": [
    {
     "ename": "ModuleNotFoundError",
     "evalue": "No module named 'torchcontrib'",
     "output_type": "error",
     "traceback": [
      "\u001b[0;31m---------------------------------------------------------------------------\u001b[0m",
      "\u001b[0;31mModuleNotFoundError\u001b[0m                       Traceback (most recent call last)",
      "Cell \u001b[0;32mIn[34], line 13\u001b[0m\n\u001b[1;32m     11\u001b[0m \u001b[38;5;28;01mfrom\u001b[39;00m \u001b[38;5;21;01msklearn\u001b[39;00m\u001b[38;5;21;01m.\u001b[39;00m\u001b[38;5;21;01mmetrics\u001b[39;00m \u001b[38;5;28;01mimport\u001b[39;00m accuracy_score\n\u001b[1;32m     12\u001b[0m \u001b[38;5;28;01mfrom\u001b[39;00m \u001b[38;5;21;01mtqdm\u001b[39;00m\u001b[38;5;21;01m.\u001b[39;00m\u001b[38;5;21;01mauto\u001b[39;00m \u001b[38;5;28;01mimport\u001b[39;00m tqdm\n\u001b[0;32m---> 13\u001b[0m \u001b[38;5;28;01mimport\u001b[39;00m \u001b[38;5;21;01mtorchcontrib\u001b[39;00m\n",
      "\u001b[0;31mModuleNotFoundError\u001b[0m: No module named 'torchcontrib'"
     ]
    }
   ],
   "source": [
    "import pandas as pd\n",
    "import numpy as np\n",
    "import torch\n",
    "import torch.nn as nn\n",
    "import torch.optim as optim\n",
    "import pickle as pkl \n",
    "import matplotlib.pyplot as plt\n",
    "from pathlib import Path\n",
    "from sklearn.model_selection import train_test_split\n",
    "from gensim.models import KeyedVectors\n",
    "from sklearn.metrics import accuracy_score\n",
    "from tqdm.auto import tqdm"
   ]
  },
  {
   "cell_type": "code",
   "execution_count": 2,
   "metadata": {},
   "outputs": [],
   "source": [
    "df = pd.read_csv(\"7/newsCorpora.csv\", sep=\"\\t\", header=None)\n",
    "extracted_df = df[df[3].isin([\"Reuters\", \"Huffington Post\", \"Businessweek\", \"Contactmusic.com\", \"Daily Mail\"])]\n",
    "shuffled_df = extracted_df.sample(frac=1, random_state=0)"
   ]
  },
  {
   "cell_type": "code",
   "execution_count": 3,
   "metadata": {},
   "outputs": [],
   "source": [
    "train_df, valid_test_df = train_test_split(shuffled_df, test_size=0.2, random_state=0)\n",
    "valid_df, test_df = train_test_split(valid_test_df, test_size=0.5, random_state=0)\n",
    "\n",
    "assert len(train_df) == 10672\n",
    "assert len(valid_df) == 1334\n",
    "assert len(test_df)  == 1334\n",
    "\n",
    "train_df.to_csv(\"7/train.txt\", index=None, header=None)\n",
    "valid_df.to_csv(\"7/valid.txt\", index=None, header=None)\n",
    "test_df.to_csv(\"7/test.txt\", index=None, header=None)"
   ]
  },
  {
   "cell_type": "code",
   "execution_count": 4,
   "metadata": {},
   "outputs": [
    {
     "data": {
      "text/plain": [
       "<gensim.models.keyedvectors.KeyedVectors at 0x78d6de421570>"
      ]
     },
     "execution_count": 4,
     "metadata": {},
     "output_type": "execute_result"
    }
   ],
   "source": [
    "if not Path(\"7/GoogleNewsModel.bin\").exists():\n",
    "    model = KeyedVectors.load_word2vec_format(\"7/GoogleNews-vectors-negative300.bin\", binary=True)\n",
    "    with open(\"7/GoogleNewsModel.bin\", \"wb\") as f:\n",
    "        pkl.dump(model, f)\n",
    "else:\n",
    "    model = pkl.load(open(\"7/GoogleNewsModel.bin\", \"rb\"))\n",
    "model"
   ]
  },
  {
   "cell_type": "code",
   "execution_count": 5,
   "metadata": {},
   "outputs": [],
   "source": [
    "# Load data\n",
    "columns = [\"ID\", \"TITLE\", \"URL\", \"PUBLISHER\", \"CATEGORY\", \"STORY\", \"HOSTNAME\", \"TIMESTAMP\"]\n",
    "train_df = pd.read_csv(\"7/train.txt\", header=None, names=columns)\n",
    "valid_df = pd.read_csv(\"7/valid.txt\", header=None, names=columns)\n",
    "test_df = pd.read_csv(\"7/test.txt\", header=None, names=columns)\n",
    "\n",
    "# We only use these two columns\n",
    "train_df = train_df[[\"TITLE\", \"CATEGORY\"]]\n",
    "valid_df = valid_df[[\"TITLE\", \"CATEGORY\"]]\n",
    "test_df = test_df[[\"TITLE\", \"CATEGORY\"]]\n",
    "\n",
    "# Replace category name to label index. (See readme.txt)\n",
    "def category2label(x):\n",
    "    return [\"b\", \"t\", \"e\", \"m\"].index(x)\n",
    "\n",
    "train_df['CATEGORY'] = train_df['CATEGORY'].map(category2label)\n",
    "valid_df['CATEGORY'] = valid_df['CATEGORY'].map(category2label)\n",
    "test_df['CATEGORY'] = test_df['CATEGORY'].map(category2label)\n",
    "# %%\n",
    "# Save data\n",
    "train_df.to_csv(\"7/y_train.txt\", header=False, columns=[\"CATEGORY\"], index=None)\n",
    "valid_df.to_csv(\"7/y_valid.txt\", header=False, columns=[\"CATEGORY\"], index=None)\n",
    "test_df.to_csv(\"7/y_test.txt\", header=False, columns=[\"CATEGORY\"], index=None)"
   ]
  },
  {
   "cell_type": "code",
   "execution_count": 6,
   "metadata": {},
   "outputs": [],
   "source": [
    "def make_vectors(df, length = 1000):\n",
    "  all_vectors = []\n",
    "  for title in tqdm(df[\"TITLE\"].tolist()[:length]):\n",
    "    vectors = []\n",
    "    words = title.lower().split()\n",
    "    for word in words:\n",
    "      # Note if the word is not in the model.index_to_key, skip it.\n",
    "      if word not in model.index_to_key:\n",
    "        continue\n",
    "      vector = model[word] # Get vectors from loaded model\n",
    "      vectors.append(vector)\n",
    "    \n",
    "    vectors = np.array(vectors)\n",
    "    if len(vectors) == 0:\n",
    "      mean_vector = np.zeros(300)\n",
    "    else:\n",
    "      mean_vector = np.mean(vectors, axis=0) # Mean value per column (See https://numpy.org/doc/stable/reference/generated/numpy.mean.html)\n",
    "    \n",
    "    assert mean_vector.shape == (300,)\n",
    "    all_vectors.append(mean_vector)\n",
    "  all_vectors = np.array(all_vectors)\n",
    "  assert all_vectors.shape == (length, 300)\n",
    "  return all_vectors\n",
    "\n",
    "if not Path(\"7/x_train.npy\").exists():\n",
    "  with open('7/x_train.npy', 'wb') as f:\n",
    "    np.save(f, make_vectors(train_df))\n",
    "\n",
    "if not Path(\"7/x_valid.npy\").exists():\n",
    "  with open('7/x_valid.npy', 'wb') as f:\n",
    "    np.save(f, make_vectors(valid_df))\n",
    "\n",
    "if not Path(\"7/x_test.npy\").exists():\n",
    "  with open('7/x_test.npy', 'wb') as f:\n",
    "    np.save(f, make_vectors(test_df))"
   ]
  },
  {
   "cell_type": "code",
   "execution_count": 7,
   "metadata": {},
   "outputs": [
    {
     "name": "stdout",
     "output_type": "stream",
     "text": [
      "torch.Size([1000, 300])\n",
      "torch.Size([1, 1000])\n",
      "torch.Size([4, 1000])\n"
     ]
    }
   ],
   "source": [
    "# Create randomized weights (dim, the number of labels) https://pytorch.org/docs/stable/generated/torch.rand.html#torch-rand\n",
    "W = torch.rand(300, 1000)\n",
    "with open(\"7/x_train.npy\", \"rb\") as f:\n",
    "  x_train = np.load(f)\n",
    "  x_train = torch.tensor(x_train, dtype=torch.float32)\n",
    "\n",
    "# Note: the shape x_train and W are required same dimension\n",
    "assert x_train.dtype == W.dtype == torch.float32\n",
    "print(x_train.shape)\n",
    "\n",
    "softmax = nn.Softmax(dim=1)\n",
    "\n",
    "# Calculate Matrix product of x_train[:1] and W → Calculate its softmax\n",
    "print(softmax(x_train[:1] @ W).shape)\n",
    "\n",
    "# Calculate Matrix product of x_train[:4] and W → Calculate its softmax\n",
    "print(softmax(x_train[:4] @ W).shape)"
   ]
  },
  {
   "cell_type": "code",
   "execution_count": 8,
   "metadata": {},
   "outputs": [
    {
     "name": "stdout",
     "output_type": "stream",
     "text": [
      "torch.Size([1000, 300]) torch.Size([4, 300])\n",
      "torch.Size([1, 4]) torch.Size([4, 4])\n"
     ]
    }
   ],
   "source": [
    "net = nn.Linear(300, 4, bias=False) # Prepare a linear layer without *bias*. The shape is (dim, the number of labels) (See https://pytorch.org/docs/stable/generated/torch.nn.Linear.html#torch.nn.Linear)\n",
    "loss = nn.CrossEntropyLoss() # Prepare CrossEntropyLoss (See https://pytorch.org/docs/stable/generated/torch.nn.CrossEntropyLoss.html#torch.nn.CrossEntropyLoss)\n",
    "\n",
    "with open(\"7/x_train.npy\", \"rb\") as f:\n",
    "  x_train = np.load(f)\n",
    "  x_train = torch.tensor(x_train, dtype=torch.float32) # Convert numpy to tensor\n",
    "with open(\"7/y_train.txt\") as f:\n",
    "  y_train = [int(line) for line in f.readlines()] # Load data and convert str to int\n",
    "  y_train = torch.tensor(y_train, dtype=torch.long) # Convert numpy to tensor. Note: the datatype of y_train is not float tensor but int.\n",
    "print(x_train.shape, x_train[:4].shape)\n",
    "\n",
    "y_pred1 = softmax(net(x_train[:1]))\n",
    "# Calculate Matrix product of x_train[:1] and net (Hint: net.forward(x)) → Calculate its softmax\n",
    "y_pred4 = softmax(net(x_train[:4]))\n",
    "print(y_pred1.shape, y_pred4.shape)\n"
   ]
  },
  {
   "cell_type": "code",
   "execution_count": 9,
   "metadata": {},
   "outputs": [
    {
     "name": "stdout",
     "output_type": "stream",
     "text": [
      "x1 CrossEntropyloss: 1.383885383605957\n",
      "x1 Gradient: tensor([[-0.0041, -0.0102, -0.0052,  ...,  0.0123,  0.0010,  0.0109],\n",
      "        [ 0.0014,  0.0034,  0.0017,  ..., -0.0041, -0.0003, -0.0036],\n",
      "        [ 0.0015,  0.0036,  0.0019,  ..., -0.0044, -0.0003, -0.0039],\n",
      "        [ 0.0013,  0.0032,  0.0016,  ..., -0.0038, -0.0003, -0.0034]])\n",
      "x1-x4 CrossEntropyloss: 1.3818466663360596\n",
      "x1 Gradient: tensor([[ 2.1150e-03, -2.8488e-03, -2.8255e-03,  ...,  3.5022e-03,\n",
      "         -1.6351e-03,  8.4493e-03],\n",
      "        [-1.1406e-03,  2.2621e-03,  5.0346e-04,  ..., -3.1983e-03,\n",
      "          2.6603e-03,  5.8869e-04],\n",
      "        [-2.6019e-03, -1.1072e-03,  2.1219e-03,  ...,  2.7648e-03,\n",
      "         -1.0694e-03, -5.8511e-03],\n",
      "        [ 1.6275e-03,  1.6939e-03,  2.0019e-04,  ..., -3.0687e-03,\n",
      "          4.4244e-05, -3.1869e-03]])\n"
     ]
    }
   ],
   "source": [
    "loss1 = loss(y_pred1, y_train[:1])\n",
    "net.zero_grad() # Initialize the gradient\n",
    "loss1.backward() # Calculate backword()\n",
    "print(f\"x1 CrossEntropyloss: {loss1}\")\n",
    "print(f\"x1 Gradient: {net.weight.grad}\")\n",
    "\n",
    "loss4 = loss(y_pred4, y_train[:4])\n",
    "net.zero_grad() # Initialize the gradient\n",
    "loss4.backward() # Calculate backword()\n",
    "print(f\"x1-x4 CrossEntropyloss: {loss4}\")\n",
    "print(f\"x1 Gradient: {net.weight.grad}\")"
   ]
  },
  {
   "cell_type": "code",
   "execution_count": 52,
   "metadata": {},
   "outputs": [
    {
     "name": "stdout",
     "output_type": "stream",
     "text": [
      "torch.Size([1000, 300]) torch.Size([1334])\n"
     ]
    },
    {
     "data": {
      "application/vnd.jupyter.widget-view+json": {
       "model_id": "864e1266221249d5a4b191c7e9f474b0",
       "version_major": 2,
       "version_minor": 0
      },
      "text/plain": [
       "  0%|          | 0/1000 [00:00<?, ?it/s]"
      ]
     },
     "metadata": {},
     "output_type": "display_data"
    },
    {
     "name": "stdout",
     "output_type": "stream",
     "text": [
      "1.814697027206421 0.040194783359766006\n"
     ]
    },
    {
     "data": {
      "image/png": "[encoded data removed]",
      "text/plain": [
       "<Figure size 640x480 with 1 Axes>"
      ]
     },
     "metadata": {},
     "output_type": "display_data"
    }
   ],
   "source": [
    "with open(\"7/x_test.npy\", \"rb\") as f:\n",
    "  # Load numpy and convert it to tensor\n",
    "  x_test = np.load(f)\n",
    "  x_test = torch.tensor(x_test, dtype=torch.float32)\n",
    "\n",
    "with open(\"7/y_test.txt\") as f:\n",
    "  y_test = [int(line) for line in f.readlines()] # Load data and convert str to int\n",
    "  y_test = torch.tensor(y_test, dtype=torch.long)\n",
    "  # Load numpy and convert it to tensor\n",
    "print(x_test.shape, y_test.shape)\n",
    "\n",
    "x_train, y_train = x_train[:1000], y_train[:1000]\n",
    "x_test, y_test = x_test[:100], y_test[:100]\n",
    "x_train, y_train = x_train.to(\"cuda\"), y_train.to(\"cuda\")\n",
    "x_test, y_test = x_test.to(\"cuda\"), y_test.to(\"cuda\")\n",
    "\n",
    "\n",
    "class Model(nn.Module):\n",
    "  def __init__(self):\n",
    "    super(Model, self).__init__()\n",
    "    self.layers = nn.Sequential(\n",
    "      nn.Dropout(0.75),\n",
    "      nn.Linear(300, 4096),\n",
    "      nn.ReLU(),\n",
    "      nn.BatchNorm1d(4096),\n",
    "      nn.Dropout(0.75),\n",
    "      nn.Linear(4096, 4096),\n",
    "      nn.ReLU(),\n",
    "      nn.BatchNorm1d(4096),\n",
    "      nn.Dropout(0.75),\n",
    "      nn.Linear(4096, 4),\n",
    "    )\n",
    "    self.skip = nn.Sequential(\n",
    "      nn.Linear(300, 4)\n",
    "    )\n",
    "  \n",
    "  def forward(self, x):\n",
    "    return self.layers(x) + self.skip(x)\n",
    "\n",
    "# net = nn.Linear(300, 4, bias=False)\n",
    "# net = nn.Sequential(\n",
    "#   nn.Linear(300, 1024),\n",
    "#   nn.ReLU(),\n",
    "#   nn.Linear(1024, 1024),\n",
    "#   nn.ReLU(),\n",
    "#   nn.Linear(1024, 4)\n",
    "# )\n",
    "\n",
    "net = Model()\n",
    "swa_net = optim.swa_utils.AveragedModel(net)\n",
    "\n",
    "\n",
    "# Prepare a linear layer without *bias*. The shape is (dim, the number of labels) (See https://pytorch.org/docs/stable/generated/torch.nn.Linear.html#torch.nn.Linear)\n",
    "loss_function = nn.CrossEntropyLoss() # Prepare CrossEntropyLoss (See https://pytorch.org/docs/stable/generated/torch.nn.CrossEntropyLoss.html#torch.nn.CrossEntropyLoss)\n",
    "optimizer = optim.AdamW(net.parameters(), lr=0.01) # Prepare optimizer (See https://pytorch.org/docs/stable/generated/torch.optim.SGD.html#torch.optim.SGD)\n",
    "\n",
    "# scheduler = optim.lr_scheduler.CosineAnnealingLR(optimizer, T_max=100)\n",
    "# swa_scheduler = optim.swa_utils.SWALR(optimizer, swa_lr=0.05)\n",
    "# swa_start = 500\n",
    "# swa_net.to(\"cuda\")\n",
    "\n",
    "net.to(\"cuda\")\n",
    "\n",
    "net.train()\n",
    "\n",
    "losses = []\n",
    "train_acces = []\n",
    "test_acces = []\n",
    "\n",
    "for epoch in tqdm(range(1000)):\n",
    "    optimizer.zero_grad()\n",
    "    y_pred = net(x_train)\n",
    "    # y_pred = swa_net(x_train)\n",
    "    loss = loss_function(y_pred, y_train)\n",
    "    loss.backward()\n",
    "    optimizer.step()\n",
    "    # if epoch > swa_start:\n",
    "    #   swa_net.update_parameters(net)\n",
    "    #   swa_scheduler.step()\n",
    "    losses.append(loss.item())\n",
    "\n",
    "    # swa_net.eval()\n",
    "    # with torch.inference_mode():\n",
    "    #   y_max_train, y_pred_train = torch.max(swa_net(x_train), dim=1)\n",
    "    #   train_acc = accuracy_score(y_train.cpu(), y_pred_train.cpu())\n",
    "    #   y_max_test, y_pred_test = torch.max(swa_net(x_test), dim=1)\n",
    "    #   test_acc = accuracy_score(y_test.cpu(), y_pred_test.cpu())\n",
    "    # train_acces.append(train_acc)\n",
    "    # test_acces.append(test_acc)\n",
    "    # swa_net.train()\n",
    "\n",
    "\n",
    "\n",
    "# optim.swa_utils.update_bn(x_train.unsqueeze(0), swa_net, device=\"cuda\")\n",
    "# Save the weights\n",
    "print(losses[0], losses[-1])\n",
    "\n",
    "fig = plt.figure()\n",
    "ax1 = fig.add_subplot(111)\n",
    "ax1.plot(losses, label=\"loss\")\n",
    "ax1.set_ylim(0, 2)\n",
    "ax1.set_ylabel(\"loss\")\n",
    "\n",
    "# ax2 = ax1.twinx()\n",
    "# ax2.plot(train_acces, label=\"train_accuracy\", color=\"orange\")\n",
    "# ax2.plot(test_acces, label=\"test_accuracy\", color=\"red\")\n",
    "# ax2.set_ylim(0, 1)\n",
    "# ax2.set_ylabel(\"accuracy\")\n",
    "\n",
    "plt.show()\n",
    "torch.save(swa_net.state_dict(), \"7/model.pt\")"
   ]
  },
  {
   "cell_type": "code",
   "execution_count": 53,
   "metadata": {},
   "outputs": [
    {
     "name": "stdout",
     "output_type": "stream",
     "text": [
      "torch.Size([1000, 300]) torch.Size([1334])\n",
      "torch.Size([1000]) torch.Size([1000])\n",
      "Accuracy on training data: 0.99\n",
      "Accuraty on test data: 0.75\n"
     ]
    }
   ],
   "source": [
    "with open(\"7/x_test.npy\", \"rb\") as f:\n",
    "  # Load numpy and convert it to tensor\n",
    "  x_test = np.load(f)\n",
    "  x_test = torch.tensor(x_test, dtype=torch.float32)\n",
    "\n",
    "with open(\"7/y_test.txt\") as f:\n",
    "  y_test = [int(line) for line in f.readlines()] # Load data and convert str to int\n",
    "  y_test = torch.tensor(y_test, dtype=torch.long)\n",
    "  # Load numpy and convert it to tensor\n",
    "print(x_test.shape, y_test.shape)\n",
    "\n",
    "x_test, y_test = x_test[:100], y_test[:100]\n",
    "net.cpu()\n",
    "x_train, y_train = x_train.cpu(), y_train.cpu()\n",
    "x_test, y_test = x_test.cpu(), y_test.cpu()\n",
    "\n",
    "\n",
    "y_max_train, y_pred_train = torch.max(net(x_train), dim=1) # Check the return of torch.max (See https://pytorch.org/docs/stable/generated/torch.max.html#torch-max)\n",
    "print(y_train.shape, y_pred_train.shape)\n",
    "# %%\n",
    "print(f\"Accuracy on training data: {accuracy_score(y_train, y_pred_train):.2f}\")\n",
    "# See https://scikit-learn.org/stable/modules/generated/sklearn.metrics.accuracy_score.html#sklearn.metrics.accuracy_score\n",
    "\n",
    "y_max_test, y_pred_test = torch.max(net(x_test), dim=1)\n",
    "print(f\"Accuraty on test data: {accuracy_score(y_test, y_pred_test):.2f}\")"
   ]
  },
  {
   "cell_type": "code",
   "execution_count": null,
   "metadata": {},
   "outputs": [],
   "source": []
  }
 ],
 "metadata": {
  "kernelspec": {
   "display_name": ".venv",
   "language": "python",
   "name": "python3"
  },
  "language_info": {
   "codemirror_mode": {
    "name": "ipython",
    "version": 3
   },
   "file_extension": ".py",
   "mimetype": "text/x-python",
   "name": "python",
   "nbconvert_exporter": "python",
   "pygments_lexer": "ipython3",
   "version": "3.10.13"
  }
 },
 "nbformat": 4,
 "nbformat_minor": 2
}
