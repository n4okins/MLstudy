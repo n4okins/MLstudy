{
 "cells": [
  {
   "cell_type": "code",
   "execution_count": 7,
   "metadata": {},
   "outputs": [
    {
     "name": "stdout",
     "output_type": "stream",
     "text": [
      "  % Total    % Received % Xferd  Average Speed   Time    Time     Time  Current\n",
      "                                 Dload  Upload   Total   Spent    Left  Speed\n",
      "100 27.8M    0 27.8M    0     0   238k      0 --:--:--  0:01:59 --:--:--  277k859k    0     0   586k      0 --:--:--  0:00:08 --:--:--  502k0   305k      0 --:--:--  0:00:28 --:--:--  153k\n",
      "Archive:  ./6/news_aggregator.zip\n",
      "  inflating: ./6/2pageSessions.csv   \n",
      "   creating: ./6/__MACOSX/\n",
      "  inflating: ./6/__MACOSX/._2pageSessions.csv  \n",
      "  inflating: ./6/newsCorpora.csv     \n",
      "  inflating: ./6/__MACOSX/._newsCorpora.csv  \n",
      "  inflating: ./6/readme.txt          \n",
      "  inflating: ./6/__MACOSX/._readme.txt  \n"
     ]
    }
   ],
   "source": [
    "!mkdir -p 6\n",
    "!curl -X GET https://archive.ics.uci.edu/static/public/359/news+aggregator.zip -o ./6/news_aggregator.zip\n",
    "!unzip -o ./6/news_aggregator.zip -d ./6/\n",
    "!rm -rf ./6/__MACOSX/\n",
    "!rm ./6/news_aggregator.zip"
   ]
  },
  {
   "cell_type": "code",
   "execution_count": null,
   "metadata": {},
   "outputs": [],
   "source": []
  }
 ],
 "metadata": {
  "kernelspec": {
   "display_name": ".venv",
   "language": "python",
   "name": "python3"
  },
  "language_info": {
   "codemirror_mode": {
    "name": "ipython",
    "version": 3
   },
   "file_extension": ".py",
   "mimetype": "text/x-python",
   "name": "python",
   "nbconvert_exporter": "python",
   "pygments_lexer": "ipython3",
   "version": "3.10.13"
  }
 },
 "nbformat": 4,
 "nbformat_minor": 2
}
